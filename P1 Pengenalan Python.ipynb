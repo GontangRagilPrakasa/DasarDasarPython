{
 "cells": [
  {
   "cell_type": "markdown",
   "metadata": {},
   "source": [
    "By : Gontang Ragil Prakasa\n",
    "Teknik Informatika\n",
    "Universitas Ahmad Dahlan\n"
   ]
  },
  {
   "cell_type": "markdown",
   "metadata": {},
   "source": [
    "tutorial untuk membuka  <b> jupyter notebook </b> ada di https://www.youtube.com/watch?v=DPi6CAkUUPY"
   ]
  },
  {
   "cell_type": "markdown",
   "metadata": {},
   "source": [
    "<h2> Sejarah Python </h2>\n",
    "<p> Python dikembangkan oleh Guido van Rossum pada tahun 1990 di CWI, Amsterdam sebagi kelanjutan dari bahasa pemrograman ABC. Versi terakhir yang dikeluarkan CWI adalah 1.2. tahun 1995, Guido pindah ke CNRI sambil terus melanjutkan pengembangan Python. Versi terakhir yang dikeluarkan adalah 1.6. Tahun 2000, Guido dan para pengembang inti Python pindah ke BeOpen.com yang merupakan sebuah perusahaan komersial dan membentuk BeOpen PythonLabs. Python 2.0 dikeluarkan BeOpen. Setelah mengeluarkan Python 2.0, Guido dan beberapa anggota tim PythonLabs pindah ke DigitalCreations.  </p><br>\n",
    "<img src=\"image/guido.jpg\" width=\"250px\" height=\"300px\" /><br>\n",
    "<h2>Pengenalan Python</h2><br>\n",
    "<p>Python merupakan bahasa pemrograman dinamis yang mendukung pemrograman berbasis objek. Python dapat digunakan untuk berbagai keperluana pengembangan perangkat lunak dan dapat berjalan di berbagai platform sistem informasi sistem operasi dan dpaat berjalan pada sistem yang berbasis <b> WIndows, Linux/Unix, Mac OS X, OS/2, Amiga </b> Interpreter python dapat diperoleh diwebsite resminya di <br>\n",
    "<center> http://www.python.org </center><br>\n",
    "<img src=\"image/python.jpg\" width=\"250px\" height=\"300px\" /><br>\n",
    "<h2> Kenapa Harus Menggunakan Bahasa Pemrograman Python </h2>\n",
    "<p>Beberapa fitur yang dimiliki Python adalah ? </p>\n",
    "<tr>\n",
    "    <td>1.</td><br>\n",
    "    <td>2.</td><br>\n",
    "    <td>3.</td><br>\n",
    "    <td>4.</td><br>\n",
    "    <td>5.</td><br>\n",
    "</tr><br>\n",
    "Pada praktikum ini menggunaka software packet anaconda (python) yang didalamnya sudah ada beberapa paket dengan menggunakan jupyter notebook"
   ]
  },
  {
   "cell_type": "markdown",
   "metadata": {},
   "source": [
    "<img src=\"image/letsgo.jpg\" width=\"250px\" height=\"300px\" /><br>\n",
    "<marquee>Code</marquee>"
   ]
  },
  {
   "cell_type": "code",
   "execution_count": 1,
   "metadata": {},
   "outputs": [
    {
     "name": "stdout",
     "output_type": "stream",
     "text": [
      "silahkan coba dengan menyebutkan nama dan nim kalian\n"
     ]
    }
   ],
   "source": [
    "## untuk menampilkan dilayar cukup menggunakan print \"saysomething\"; (python 2) dan print (\"saysomething\"); (python 3)\n",
    "print (\"silahkan coba dengan menyebutkan nama dan nim kalian\");"
   ]
  },
  {
   "cell_type": "code",
   "execution_count": 2,
   "metadata": {
    "collapsed": true
   },
   "outputs": [],
   "source": [
    "##silahak tulis script kalian disini\n"
   ]
  },
  {
   "cell_type": "markdown",
   "metadata": {},
   "source": [
    "<h3>Tipe Data </h3>\n",
    "<img src=\"image/tipedata.png\" width=\"500px\" height=\"7000px\" /><br>"
   ]
  },
  {
   "cell_type": "markdown",
   "metadata": {},
   "source": [
    "<h3>Operator Perbandingan </h3>\n",
    "<img src=\"image/perbandingan.png\" width=\"500px\" height=\"7000px\" /><br>"
   ]
  },
  {
   "cell_type": "code",
   "execution_count": 3,
   "metadata": {},
   "outputs": [
    {
     "name": "stdout",
     "output_type": "stream",
     "text": [
      "2 sama dengan 3 adalah False\n",
      "2 tidak sama dengan 3 adalah True\n"
     ]
    }
   ],
   "source": [
    "##pertama kita harus membuat variabel\n",
    "a =2 ;##isi dengan angka random \n",
    "b =3;##isi dengan angka random\n",
    "##kemudian uji dengan operator perbandingan\n",
    "##sama dengan\n",
    "print (a,\"sama dengan\",b,\"adalah\",a == b);\n",
    "##tidak sama dengan v1\n",
    "print (a, \"tidak sama dengan\",b,\"adalah\", a!=b)\n",
    "##tidak sama dengan v2\n",
    "\n",
    "##lebih besar dari\n",
    "\n",
    "##lebih kecil dari\n",
    "\n",
    "##lebih besar atau sama dengan\n",
    "\n",
    "##lebih kecil atau sama dengan\n"
   ]
  },
  {
   "cell_type": "markdown",
   "metadata": {},
   "source": [
    "<h3>Operator Penugasan </h3>\n",
    "<img src=\"image/penugasann.png\" width=\"500px\" height=\"7000px\" /><br>"
   ]
  },
  {
   "cell_type": "code",
   "execution_count": 4,
   "metadata": {},
   "outputs": [
    {
     "name": "stdout",
     "output_type": "stream",
     "text": [
      "2 3 4 5 6 7 9\n",
      "silahkan mencoba\n",
      "tambah sama dengan 4\n",
      "sama dengan 7\n"
     ]
    }
   ],
   "source": [
    "##sekarang kita buat variabel awal untuk menampung angka karena dalam python ini memori akan tersimpan ketika dijalankan\n",
    "##dan juga kerana ada 9 step mari kita buat 9 variabel penampung angka\n",
    "c = 2\n",
    "d = 3\n",
    "e = 4\n",
    "f = 5\n",
    "g = 6\n",
    "h = 7\n",
    "i = 8\n",
    "j = 9\n",
    "##kemudian kita tampilkan\n",
    "print (c,d,e,f,g,h,j)\n",
    "print(\"silahkan mencoba\")\n",
    "##kemudian mari kita coba aplikasikan dalam operator penugasan\n",
    "#variabel c tambah sama dengan +=\n",
    "c+=2 ##angka 2 ini random sesuai kebutuhan\n",
    "print(\"tambah sama dengan\",c)\n",
    "#variabel d dengan operator sama dengan =\n",
    "d=7\n",
    "print(\"sama dengan\",d)\n",
    "#variabel e kurang sama dengan -=\n",
    "\n",
    "#variabel f kali sama dengan *=\n",
    "\n",
    "#variabel g bagi sama dengan /=\n",
    "\n",
    "#variabel h sisa sama dengan %=\n",
    "\n",
    "#variabel i pangkat sama dengan **=\n",
    "\n",
    "#variabel j bulat sama dengan //="
   ]
  },
  {
   "cell_type": "markdown",
   "metadata": {},
   "source": [
    "<h3>Operator Loigka </h3>\n",
    "<img src=\"image/logica.png\" width=\"500px\" height=\"7000px\" /><br>"
   ]
  },
  {
   "cell_type": "code",
   "execution_count": 5,
   "metadata": {},
   "outputs": [
    {
     "name": "stdout",
     "output_type": "stream",
     "text": [
      "Hasil dari  True  and  False  =  True\n",
      "Hasil dari  True =  False\n"
     ]
    }
   ],
   "source": [
    "##sekarang kita kembali memesan variabel baru \n",
    "var1 = True\n",
    "var2 = False\n",
    "##kemudian kita aplikasikan dalam oeprator logika\n",
    "##operator or\n",
    "hasil = var1 or var2\n",
    "print(\"Hasil dari \",var1,\" and \",var2,\" = \",hasil)\n",
    "##operator and\n",
    "\n",
    "##operator not\n",
    "hasil = not var1\n",
    "print(\"Hasil dari \",var1,\"= \",hasil)"
   ]
  },
  {
   "cell_type": "markdown",
   "metadata": {},
   "source": [
    "<h3>Operator Bitwise </h3>\n",
    "<img src=\"image/bit.png\" width=\"500px\" height=\"7000px\" />\n",
    "<img src=\"image/wis.png\" width=\"500px\" height=\"7000px\" /><br>"
   ]
  },
  {
   "cell_type": "code",
   "execution_count": 9,
   "metadata": {},
   "outputs": [
    {
     "name": "stdout",
     "output_type": "stream",
     "text": [
      "2 3\n",
      "hasil biner a =  0b10\n",
      "hasil biner b =  0b11\n",
      "Hasil dari operator biner and antara a dan b adalah 2\n",
      "Hasil dari operator biner or antara a dan b adalah 3\n",
      "Hasil dari operator biner not a adalah -3\n"
     ]
    }
   ],
   "source": [
    "##kita akan menggunakan variabel a,b yang sudah kita deklatasi diata\n",
    "##untuk mengecek kembali\n",
    "print(a,b)\n",
    "##kemudian kta konversi kedalam bentuk biner\n",
    "print(\"hasil biner a = \",bin(a))\n",
    "print(\"hasil biner b = \",bin(b))\n",
    "##kemudian kita aplikasikan dalam oeprator bitwise\n",
    "#operator biner and\n",
    "print(\"Hasil dari operator biner and antara a dan b adalah\",a & b)\n",
    "#operator biner or\n",
    "print(\"Hasil dari operator biner or antara a dan b adalah\",a | b)\n",
    "#operator biner XOR\n",
    "\n",
    "#operator biner not\n",
    "print(\"Hasil dari operator biner not a adalah\",~a)\n",
    "#operaotr shift left (tukar posisi biner)\n",
    "\n",
    "#operator shift right (tukar posisi biner)\n"
   ]
  },
  {
   "cell_type": "markdown",
   "metadata": {},
   "source": [
    "<h2>Operator Identitas</h2>\n",
    "<img src=\"image/identitas.png\" width=\"500px\" height=\"7000px\" /><br>"
   ]
  },
  {
   "cell_type": "code",
   "execution_count": null,
   "metadata": {},
   "outputs": [],
   "source": [
    "##kita akan menggunakan variabel a,b yang sudah kita deklatasi diata\n",
    "##untuk mengecek kembali\n",
    "print(a,b)\n",
    "##kemudian kita aplikasikan dalam oeprator identitas\n",
    "##operator is\n",
    "print (\"Hasil operator identitas is =\",a is b)\n",
    "##operator not is\n"
   ]
  },
  {
   "cell_type": "markdown",
   "metadata": {},
   "source": [
    "<h3>Operator Aritmatika </h3>\n",
    "<img src=\"image/aritmatika.png\" width=\"500px\" height=\"7000px\" /><br>"
   ]
  },
  {
   "cell_type": "code",
   "execution_count": null,
   "metadata": {},
   "outputs": [],
   "source": [
    "##kita akan membuat angka dengan inputan\n",
    "angka1 = input(\"Masukkan angka pertama\")\n",
    "angka2 = input(\"Masukkan angka kedua\")\n",
    "\n",
    "##silahkan coab dengan seluruh operator aritmatika\n",
    "##penjumlahan\n",
    "print(\"penjumlahan\")\n",
    "penjumlahan = int(angka1) + int(angka2)\n",
    "print(angka1,\"+\",angka2,\"=\",penjumlahan)\n",
    "##pengurangan\n",
    "print(\"penngurangan\")\n",
    "pengurangan = int(angka1) - int(angka2)\n",
    "print(angka1,\"-\",angka2,\"=\",pengurangan)\n",
    "##pembagian\n",
    "print(\"pembagian\")\n",
    "##sisabagi\n",
    "print(\"sisabagi\")\n",
    "##pengkat\n",
    "print(\"sisabagi\")\n",
    "##pembagianbulat\n",
    "print(\"sisabagi\")"
   ]
  },
  {
   "cell_type": "markdown",
   "metadata": {},
   "source": [
    "<h2>List</h2>\n",
    "<p>List ibaratnya seperti array pada bahasa\n",
    "pemrograman yang lain. Akan tetapi, list dapat berisi berbagai data dengan tipe yang\n",
    "berbeda sedangkan array hanya bisa berisi data yang tipenya sama. List ditandai dengan\n",
    "kurung [] </p>"
   ]
  },
  {
   "cell_type": "markdown",
   "metadata": {},
   "source": [
    "<h2>Operator Keanggotaan</h2>\n",
    "<img src=\"image/keanggotaan.png\" width=\"500px\" height=\"7000px\" /><br>"
   ]
  },
  {
   "cell_type": "code",
   "execution_count": null,
   "metadata": {},
   "outputs": [],
   "source": [
    "anggota = [1,2,3,4,5]\n",
    "##silahkan coba yang in dengan melihat banyaknya indeks\n",
    "print (5 in anggota)\n",
    "##silahkan coba yang not in dengan banyaknya indeks\n",
    "print (4 not in anggota)"
   ]
  },
  {
   "cell_type": "code",
   "execution_count": null,
   "metadata": {},
   "outputs": [],
   "source": [
    "##kita buat variabel yang menampung array\n",
    "cinta = ['aku','kamu',100]\n",
    "##coba kita tampilkan\n",
    "print (cinta)\n",
    "##kemudian kita cek setiap array\n",
    "print(cinta[0]) #menampilkan array pada cinta indeks ke 0\n",
    "##kemudian silahkan coba dengan beberapa array yang ingin anda lihat\n",
    "print(cinta[-2])"
   ]
  },
  {
   "cell_type": "code",
   "execution_count": null,
   "metadata": {},
   "outputs": [],
   "source": [
    "#kemudian untuk menghapus list kita dapat menggunakan fungsi del\n",
    "#contoh kita menghapus array ke 0\n",
    "del cinta[0]\n",
    "##silahkan tampilkan\n",
    "print(cinta)"
   ]
  },
  {
   "cell_type": "code",
   "execution_count": null,
   "metadata": {},
   "outputs": [],
   "source": [
    "##kemudian jika kita buta membaca indeks bisa menggunakan fungsi remove\n",
    "cinta.remove('kamu')\n",
    "##silahkan tampilkan\n",
    "print(cinta)\n"
   ]
  },
  {
   "cell_type": "code",
   "execution_count": null,
   "metadata": {},
   "outputs": [],
   "source": [
    "cinta\n",
    "cinta.append('move on')\n",
    "print (cinta)"
   ]
  },
  {
   "cell_type": "markdown",
   "metadata": {
    "collapsed": true
   },
   "source": [
    "#mengiterasi isi list\n",
    "#menghitung panjang list dengan len()\n",
    "#menghitung kemunculan nilai tertentu dengan count()\n",
    "#menambah nilai baru dengan append()\n",
    "#mencari posisi suatu nilai dengan index()\n",
    "#menyisipkan suatu nilai ke posisi tertentu dengan insert()\n",
    "#membuang nilai tertentu dengan pop()\n",
    "#membuang nilai tertentu dengan remove()\n",
    "#menyambung list dengan extend()\n",
    "#membalik urutan list dengan reverse()\n",
    "#membalik urutan list dengan sort()\n",
    "#mencari nilai max dengan max()\n",
    "#mencari nilai min dengan min()\n",
    "#mencari nilai sum dengan sum()"
   ]
  },
  {
   "cell_type": "markdown",
   "metadata": {},
   "source": [
    "<h2>Tuple</h2>\n",
    "<p>Berbeda dengan list, isi\n",
    "tuple bersifat immutable yang artinya tidak dapat diubah/digantinilai/dihapus. Contoh kita\n",
    "akan buat Tuple NamaSiswa yang berisi “Kartika”, “Annisa”, “Zahrotul”, “Zelma”, dan\n",
    "“Noval”. Tuple ditandai dengan kurung ()</p>"
   ]
  },
  {
   "cell_type": "code",
   "execution_count": null,
   "metadata": {
    "collapsed": true
   },
   "outputs": [],
   "source": [
    "##kita buat variabel baru \n",
    "bucin = (\"Otong\",\"Baedah\",\"Cinta\",\"Mati\")\n",
    "##silahkan print\n",
    "\n",
    "##kita ketahui dlaam tupple data tersebut tidak bisa diubah dsb jadi fungsi remove del dsb tidak bisa digunakan agar bisa diubah\n",
    "##bisa kita menggunakan dictionarry atau list"
   ]
  },
  {
   "cell_type": "markdown",
   "metadata": {},
   "source": [
    "<h2>Dictionary</h2>\n",
    "<p>Dictionary\n",
    "menggunakan beberapa kata kunci untuk mengindeks data. Sehingga pada Dictionary, data\n",
    "tidak diindeks menggunakan angka 0,1,dst tetapi menggunakan kata-kata kunci tertentu.\n",
    "Contohnya kita akan membuat dictionary yang berisi data {'nama': 'azzam', 'alamat': 'malang',\n",
    "'jurusan': 'fisika', 'nim': 1234}. Dictionary ditandai dengan {}.</p>"
   ]
  },
  {
   "cell_type": "code",
   "execution_count": null,
   "metadata": {},
   "outputs": [],
   "source": [
    "##kita buat variabel baru\n",
    "gontang = {'nama':'gontang','alamat':'malang','jurusan':'teknik informatika','nim':1500018280}\n",
    "##kemudian kita lihat isi dari dictionarry tersebut\n",
    "gontang\n",
    "##kita memanggil nama\n",
    "\n",
    "##silahkan panggil alamat, jurusan, dan nim\n"
   ]
  },
  {
   "cell_type": "code",
   "execution_count": null,
   "metadata": {
    "collapsed": true
   },
   "outputs": [],
   "source": [
    "##dalam dictionarry kita dapat menghapus salah satu indeks\n",
    "del gontang['nim']\n",
    "#silahkan print\n",
    "\n",
    "#silahkan coba hapus nim"
   ]
  },
  {
   "cell_type": "markdown",
   "metadata": {},
   "source": [
    "<h2>Percabangan</h2>\n",
    "<img src=\"image/jikamaka.png\" width=\"500px\" height=\"7000px\" /><br>"
   ]
  },
  {
   "cell_type": "code",
   "execution_count": null,
   "metadata": {},
   "outputs": [],
   "source": [
    "##studi kasus menetukan nilai lebih besar dari, kurang besar dari, dan sama besar\n",
    "a = input(\"Masukkan angka 1\")\n",
    "b = input(\"Masukkan angka 2\")\n",
    "\n",
    "if(a>b):\n",
    "    print (\"a lebih besar dari b\")\n",
    "elif(a < b) :\n",
    "    print (\"a lebih kecil dari b\")\n",
    "else :\n",
    "    print (\"a dan b sama besar\")"
   ]
  },
  {
   "cell_type": "markdown",
   "metadata": {},
   "source": [
    "<h2>Perulangan</h2>\n",
    "<p>Perulangan for disebut counted loop (perulangan yang terhitung), sementara perulangan while disebut uncounted loop (perulangan yang tak terhitung). Perbedaannya adalah perulangan for biasanya digunakan untuk mengulangi kode yang sudah diketahui banyak perulangannya. Sementara while untuk perulangan yang memiliki syarat dan tidak tentu berapa banyak perulangannya.</p>"
   ]
  },
  {
   "cell_type": "code",
   "execution_count": null,
   "metadata": {},
   "outputs": [],
   "source": [
    "##menggunakan for\n",
    "per = range(10)\n",
    "for i in per:\n",
    "    print (\"Perulangan ke-\"+str(i))"
   ]
  },
  {
   "cell_type": "code",
   "execution_count": null,
   "metadata": {},
   "outputs": [],
   "source": [
    "##menggunakan while\n",
    "batas = input(\"Masukkan batas\")\n",
    "ulang = 1\n",
    "while (ulang<=int(batas)):\n",
    "    print (\"Perulangan ke\"+str(ulang))\n",
    "    ulang=ulang+1"
   ]
  },
  {
   "cell_type": "markdown",
   "metadata": {},
   "source": [
    "<h2> Postest </h2>\n",
    "Kerjakan yang ada dimodul"
   ]
  },
  {
   "cell_type": "code",
   "execution_count": null,
   "metadata": {
    "collapsed": true
   },
   "outputs": [],
   "source": []
  }
 ],
 "metadata": {
  "kernelspec": {
   "display_name": "Python 3",
   "language": "python",
   "name": "python3"
  }
 },
 "nbformat": 4,
 "nbformat_minor": 2
}
